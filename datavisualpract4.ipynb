{
 "cells": [
  {
   "cell_type": "code",
   "execution_count": 3,
   "metadata": {},
   "outputs": [
    {
     "name": "stdout",
     "output_type": "stream",
     "text": [
      "         FOOD NAME                 SCIENTIFIC NAME             GROUP  \\\n",
      "0         Angelica                Angelica keiskei  Herbs and Spices   \n",
      "1    Savoy cabbage  Brassica oleracea var. sabauda        Vegetables   \n",
      "2    Silver linden                  Tilia argentea  Herbs and Spices   \n",
      "3             Kiwi             Actinidia chinensis            Fruits   \n",
      "4   Allium (Onion)                          Allium        Vegetables   \n",
      "..             ...                             ...               ...   \n",
      "94         Lettuce                  Lactuca sativa        Vegetables   \n",
      "95       Grass pea                Lathyrus sativus            Pulses   \n",
      "96       Sweet bay                  Laurus nobilis  Herbs and Spices   \n",
      "97         Lentils                  Lens culinaris            Pulses   \n",
      "98    Garden cress                Lepidium sativum        Vegetables   \n",
      "\n",
      "                  SUB GROUP  \n",
      "0                     Herbs  \n",
      "1                  Cabbages  \n",
      "2                     Herbs  \n",
      "3           Tropical fruits  \n",
      "4   Onion-family vegetables  \n",
      "..                      ...  \n",
      "94          Leaf vegetables  \n",
      "95                     Peas  \n",
      "96                    Herbs  \n",
      "97                  Lentils  \n",
      "98          Leaf vegetables  \n",
      "\n",
      "[99 rows x 4 columns]\n"
     ]
    }
   ],
   "source": [
    "import numpy as np\n",
    "import pandas as pd\n",
    "df = pd.read_csv('generic-food.csv', delimiter=',')\n",
    "#list_of_rows = [list(row) for row in df.values]\n",
    "\n",
    "#print(list_of_rows)\n",
    "print(df)"
   ]
  },
  {
   "cell_type": "code",
   "execution_count": 7,
   "metadata": {},
   "outputs": [
    {
     "name": "stdout",
     "output_type": "stream",
     "text": [
      "[1 3 5 7 9]\n"
     ]
    }
   ],
   "source": [
    "##arange()\n",
    "import numpy as np\n",
    "arr=np.arange(1,10,2)\n",
    "print(arr)"
   ]
  },
  {
   "cell_type": "code",
   "execution_count": 11,
   "metadata": {},
   "outputs": [
    {
     "data": {
      "text/plain": [
       "(array([3., 4., 5., 6.]), 1.0)"
      ]
     },
     "execution_count": 11,
     "metadata": {},
     "output_type": "execute_result"
    }
   ],
   "source": [
    "##linespace()\n",
    "np.linspace(3, 6, num=4,endpoint=True,dtype=int)\n",
    "\n",
    "np.linspace(3, 6, num=4,retstep=True)"
   ]
  },
  {
   "cell_type": "code",
   "execution_count": 3,
   "metadata": {},
   "outputs": [
    {
     "name": "stdout",
     "output_type": "stream",
     "text": [
      "examplearray1\n",
      " 7\n",
      "examplearray2\n",
      " [[83 79 35 13 12]\n",
      " [69 29 23 53 77]\n",
      " [20 60 64 35 57]\n",
      " [11 19 29 75 65]]\n"
     ]
    }
   ],
   "source": [
    "##randint\n",
    "import numpy as np\n",
    "rand_int = np.random.randint(5,10)  \n",
    "print(\"examplearray1\\n\",rand_int)\n",
    "\n",
    "rand_int2 = np.random.randint(10,90,(4,5))\n",
    "print( \"examplearray2\\n\",rand_int2)"
   ]
  },
  {
   "cell_type": "code",
   "execution_count": 22,
   "metadata": {},
   "outputs": [
    {
     "name": "stdout",
     "output_type": "stream",
     "text": [
      "randn1\n",
      " 0.43643848375837774\n",
      "randn2\n",
      " [[-0.35666596  0.31097716 -1.15291338 -2.4653047   1.12170932]\n",
      " [-0.45692438 -1.03030266  0.17430166  0.23552303  1.20092908]\n",
      " [-0.29271407  0.58703004  0.20321053  1.66346897  0.22138174]\n",
      " [-1.07265513  0.9609842  -0.83227224  0.37163353 -1.50412296]]\n"
     ]
    }
   ],
   "source": [
    "##randn()-->normal distribution\n",
    "randn1 = np.random.randn() \n",
    "print(\"randn1\\n\",randn1)\n",
    "\n",
    "randn2 = np.random.randn(4,5) \n",
    "print( \"randn2\\n\",randn2)"
   ]
  },
  {
   "cell_type": "code",
   "execution_count": 23,
   "metadata": {},
   "outputs": [
    {
     "name": "stdout",
     "output_type": "stream",
     "text": [
      "rand\n",
      " 0.24391071673913656\n",
      "rand2\n",
      " [[0.02757444 0.62619292]\n",
      " [0.15606434 0.99457582]\n",
      " [0.44174046 0.84875468]]\n"
     ]
    }
   ],
   "source": [
    "##rand()-uniform distribution\n",
    "rand = np.random.rand() \n",
    "print(\"rand\\n\", rand)\n",
    "\n",
    "rand2 = np.random.rand(3,2) \n",
    "print(\"rand2\\n\", rand2)\n"
   ]
  },
  {
   "cell_type": "code",
   "execution_count": 27,
   "metadata": {},
   "outputs": [
    {
     "name": "stdout",
     "output_type": "stream",
     "text": [
      "7\n",
      "[4 5 6]\n",
      "[2 5 8]\n"
     ]
    }
   ],
   "source": [
    "##indexing in numpy array\n",
    "\n",
    "a2 = np.array([[1, 2, 3],\n",
    "              [4, 5, 6],\n",
    "              [7, 8, 9]])\n",
    "print(a2[2,0])\n",
    "print(a2[1])\n",
    "print(a2[:,1])"
   ]
  },
  {
   "cell_type": "code",
   "execution_count": 31,
   "metadata": {},
   "outputs": [
    {
     "name": "stdout",
     "output_type": "stream",
     "text": [
      "[[15 16 17 18 19]]\n",
      "[[17 18]\n",
      " [22 23]\n",
      " [27 28]]\n"
     ]
    }
   ],
   "source": [
    "##slicing in numpy array\n",
    "a2 = np.array([[10, 11, 12, 13, 14],\n",
    "               [15, 16, 17, 18, 19],\n",
    "               [20, 21, 22, 23, 24],\n",
    "               [25, 26, 27, 28, 29]])\n",
    "\n",
    "print(a2[1:2])\n",
    "print(a2[1:,2:4])"
   ]
  },
  {
   "cell_type": "code",
   "execution_count": 6,
   "metadata": {},
   "outputs": [
    {
     "name": "stdout",
     "output_type": "stream",
     "text": [
      "[[0 1]\n",
      " [2 3]\n",
      " [4 5]]\n",
      "transpose\n",
      " [[0 2 4]\n",
      " [1 3 5]]\n"
     ]
    }
   ],
   "source": [
    "##reshape and transpose\n",
    "a = np.arange(6).reshape((3, 2))\n",
    "print(a)\n",
    "\n",
    "transp=np.transpose(a)\n",
    "print(\"transpose\\n\",transp)"
   ]
  },
  {
   "cell_type": "code",
   "execution_count": 8,
   "metadata": {},
   "outputs": [
    {
     "name": "stdout",
     "output_type": "stream",
     "text": [
      "int32\n",
      "[10. 20. 30. 40. 50.]\n"
     ]
    }
   ],
   "source": [
    "##to print the datatype and change the datatype of the numpy array\n",
    "arr = np.array([10, 20, 30, 40, 50])\n",
    "print(arr.dtype)\n",
    "\n",
    "newtype=arr.astype('float32')\n",
    "print(newtype)"
   ]
  },
  {
   "cell_type": "code",
   "execution_count": 17,
   "metadata": {},
   "outputs": [
    {
     "name": "stdout",
     "output_type": "stream",
     "text": [
      "[ 6  8 10 12]\n",
      "[-4 -4 -4 -4]\n",
      "[ 5 12 21 32]\n",
      "[0.2        0.33333333 0.42857143 0.5       ]\n",
      "[1.         1.41421356 1.73205081 2.        ]\n"
     ]
    }
   ],
   "source": [
    "##numpy array math\n",
    "x=np.array([1,2,3,4])\n",
    "y=np.array([5,6,7,8])\n",
    "print(x + y) \n",
    "\n",
    "print(x - y)\n",
    "\n",
    "print(x * y)\n",
    "\n",
    "print(x / y)\n",
    "\n",
    "print(np.sqrt(x))"
   ]
  },
  {
   "cell_type": "code",
   "execution_count": 23,
   "metadata": {},
   "outputs": [
    {
     "name": "stdout",
     "output_type": "stream",
     "text": [
      "21\n",
      "1\n",
      "6\n",
      "1.707825127659933\n"
     ]
    }
   ],
   "source": [
    "##aggregate in numpy \n",
    "arr=np.array([1,2,3,4,5,6])\n",
    "print(np.sum(arr))\n",
    "print(np.min(arr))\n",
    "print(np.max(arr))\n",
    "print(np.std(arr))\n"
   ]
  },
  {
   "cell_type": "code",
   "execution_count": 27,
   "metadata": {},
   "outputs": [
    {
     "name": "stdout",
     "output_type": "stream",
     "text": [
      "[False False False]\n",
      "[False False False]\n",
      "[ True  True  True]\n",
      "[ True  True  True]\n",
      "False\n"
     ]
    }
   ],
   "source": [
    "##acomparison in numpy\n",
    "  \n",
    "a = np.array([19, 12 ,87])\n",
    "b = np.array([897, 97, 111])\n",
    "\n",
    "equal = a==b\n",
    "print(np.greater(a, b))\n",
    "\n",
    "print(np.greater_equal(a, b))\n",
    "  \n",
    "print(np.less(a, b))\n",
    "  \n",
    "print(np.less_equal(a, b))\n",
    "\n",
    "print(equal.all())"
   ]
  },
  {
   "cell_type": "code",
   "execution_count": 28,
   "metadata": {},
   "outputs": [
    {
     "name": "stdout",
     "output_type": "stream",
     "text": [
      "[['Angelica', 'Angelica keiskei', 'Herbs and Spices', 'Herbs'], ['Savoy cabbage', 'Brassica oleracea var. sabauda', 'Vegetables', 'Cabbages'], ['Silver linden', 'Tilia argentea', 'Herbs and Spices', 'Herbs'], ['Kiwi', 'Actinidia chinensis', 'Fruits', 'Tropical fruits'], ['Allium (Onion)', 'Allium', 'Vegetables', 'Onion-family vegetables'], ['Garden onion', 'Allium cepa', 'Vegetables', 'Onion-family vegetables'], ['Leek', 'Allium porrum', 'Vegetables', 'Onion-family vegetables'], ['Garlic', 'Allium sativum', 'Herbs and Spices', 'Herbs'], ['Chives', 'Allium schoenoprasum', 'Herbs and Spices', 'Herbs'], ['Lemon verbena', 'Aloysia triphylla', 'Herbs and Spices', 'Herbs'], ['Cashew nut', 'Anacardium occidentale', 'Nuts', 'Nuts'], ['Pineapple', 'Ananas comosus', 'Fruits', 'Tropical fruits'], ['Dill', 'Anethum graveolens', 'Herbs and Spices', 'Herbs'], ['Custard apple', 'Annona reticulata', 'Fruits', 'Tropical fruits'], ['Wild celery', 'Apium graveolens', 'Herbs and Spices', 'Spices'], ['Peanut', 'Arachis hypogaea', 'Nuts', 'Nuts'], ['Burdock', 'Arctium lappa', 'Vegetables', 'Root vegetables'], ['Horseradish', 'Armoracia rusticana', 'Herbs and Spices', 'Spices'], ['Tarragon', 'Artemisia dracunculus', 'Herbs and Spices', 'Herbs'], ['Mugwort', 'Artemisia vulgaris', 'Herbs and Spices', 'Herbs'], ['Asparagus', 'Asparagus officinalis', 'Vegetables', 'Shoot vegetables'], ['Oat', 'Avena sativa', 'Cereals and cereal products', 'Cereals'], ['Star fruit', 'Averrhoa carambola', 'Fruits', 'Tropical fruits'], ['Brazil nut', 'Bertholletia excelsa', 'Nuts', 'Nuts'], ['Common beet', 'Beta vulgaris', 'Vegetables', 'Leaf vegetables'], ['Borage', 'Borago officinalis', 'Herbs and Spices', 'Oilseed crops'], ['Chinese mustard', 'Brassica juncea', 'Vegetables', 'Cabbages'], ['Swede', 'Brassica napus', 'Vegetables', 'Root vegetables'], ['Rape', 'Brassica napus var. napus', 'Vegetables', 'Root vegetables'], ['Common cabbage', 'Brassica oleracea', 'Vegetables', 'Cabbages'], ['Cauliflower', 'Brassica oleracea var. botrytis', 'Vegetables', 'Cabbages'], ['Brussel sprouts', 'Brassica oleracea var. gemmifera', 'Vegetables', 'Cabbages'], ['Kohlrabi', 'Brassica oleracea var. gongylodes', 'Vegetables', 'Root vegetables'], ['Broccoli', 'Brassica oleracea var. italica', 'Vegetables', 'Cabbages'], ['Chinese cabbage', 'Brassica rapa', 'Vegetables', 'Cabbages'], ['Turnip', 'Brassica rapa var. rapa', 'Herbs and Spices', 'Herbs'], ['Pigeon pea', 'Cajanus cajan', 'Pulses', 'Peas'], ['Tea', 'Camellia sinensis', 'Teas', 'Teas'], ['Capers', 'Capparis spinosa', 'Herbs and Spices', 'Spices'], ['Pepper (C. annuum)', 'Capsicum annuum', 'Vegetables', 'Fruit vegetables'], ['Papaya', 'Carica papaya', 'Fruits', 'Tropical fruits'], ['Safflower', 'Carthamus tinctorius', 'Herbs and Spices', 'Oilseed crops'], ['Caraway', 'Carum carvi', 'Herbs and Spices', 'Spices'], ['Pecan nut', 'Carya illinoinensis', 'Nuts', 'Nuts'], ['Chestnut', 'Castanea', 'Nuts', 'Nuts'], ['Roman camomile', 'Chamaemelum nobile', 'Herbs and Spices', 'Herbs'], ['Chickpea', 'Cicer arietinum', 'Pulses', 'Peas'], ['Endive', 'Cichorium endivia', 'Vegetables', 'Leaf vegetables'], ['Chicory', 'Cichorium intybus', 'Vegetables', 'Root vegetables'], ['Chinese cinnamon', 'Cinnamomum aromaticum', 'Herbs and Spices', 'Spices'], ['Ceylon cinnamon', 'Cinnamomum verum', 'Herbs and Spices', 'Spices'], ['Watermelon', 'Citrullus lanatus', 'Gourds', 'Gourds'], ['Lime', 'Citrus aurantiifolia', 'Fruits', 'Citrus'], ['Lemon', 'Citrus limon', 'Fruits', 'Citrus'], ['Pummelo', 'Citrus maxima', 'Fruits', 'Citrus'], ['Mandarin orange (Clementine, Tangerine)', 'Citrus reticulata', 'Fruits', 'Citrus'], ['Sweet orange', 'Citrus sinensis', 'Fruits', 'Citrus'], ['Coffee', 'Coffea', 'Coffee and coffee products', 'Coffee'], ['Arabica coffee', 'Coffea arabica', 'Coffee and coffee products', 'Coffee'], ['Robusta coffee', 'Coffea canephora', 'Coffee and coffee products', 'Coffee'], ['Coriander', 'Coriandrum sativum', 'Herbs and Spices', 'Herbs'], ['Common hazelnut', 'Corylus avellana', 'Nuts', 'Nuts'], ['Saffron', 'Crocus sativus', 'Herbs and Spices', 'Spices'], ['Muskmelon', 'Cucumis melo', 'Gourds', 'Gourds'], ['Cucumber', 'Cucumis sativus', 'Gourds', 'Gourds'], ['Cucurbita (Gourd)', 'Cucurbita', 'Gourds', 'Gourds'], ['Cumin', 'Cuminum cyminum', 'Herbs and Spices', 'Spices'], ['Turmeric', 'Curcuma longa', 'Herbs and Spices', 'Spices'], ['Quince', 'Cydonia oblonga', 'Fruits', 'Pomes'], ['Lemon grass', 'Cymbopogon citratus', 'Herbs and Spices', 'Herbs'], ['Globe artichoke', 'Cynara scolymus', 'Vegetables', 'Shoot vegetables'], ['Wild carrot', 'Daucus carota', 'Vegetables', 'Root vegetables'], ['Japanese persimmon', 'Diospyros kaki', 'Fruits', 'Tropical fruits'], ['Cardamom', 'Elettaria cardamomum', 'Herbs and Spices', 'Spices'], ['Black crowberry', 'Empetrum nigrum', 'Fruits', 'Berries'], ['Loquat', 'Eriobotrya japonica', 'Fruits', 'Tropical fruits'], ['Rocket salad (ssp.)', 'Eruca vesicaria ssp. sativa', 'Vegetables', 'Leaf vegetables'], ['Wax apple', 'Eugenia', 'Fruits', 'Tropical fruits'], ['Common buckwheat', 'Fagopyrum esculentum', 'Cereals and cereal products', 'Cereals'], ['Tartary buckwheat', 'Fagopyrum tataricum', 'Cereals and cereal products', 'Cereals'], ['Fig', 'Ficus carica', 'Fruits', 'Other fruits'], ['Fennel', 'Foeniculum vulgare', 'Herbs and Spices', 'Herbs'], ['Strawberry', 'Fragaria X ananassa', 'Fruits', 'Berries'], ['Black huckleberry', 'Gaylussacia baccata', 'Fruits', 'Berries'], ['Soy bean', 'Glycine max', 'Soy', 'Soy'], ['Sunflower', 'Helianthus annuus', 'Herbs and Spices', 'Oilseed crops'], ['Sea-buckthornberry', 'Hippophae rhamnoides', 'Fruits', 'Berries'], ['Barley', 'Hordeum vulgare', 'Cereals and cereal products', 'Cereals'], ['Hyssop', 'Hyssopus officinalis', 'Herbs and Spices', 'Herbs'], ['Star anise', 'Illicium verum', 'Herbs and Spices', 'Spices'], ['Swamp cabbage', 'Ipomoea aquatica', 'Vegetables', 'Leaf vegetables'], ['Sweet potato', 'Ipomoea batatas', 'Vegetables', 'Tubers'], ['Black walnut', 'Juglans nigra', 'Nuts', 'Nuts'], ['Common walnut', 'Juglans regia', 'Nuts', 'Nuts'], ['Lettuce', 'Lactuca sativa', 'Vegetables', 'Leaf vegetables'], ['Grass pea', 'Lathyrus sativus', 'Pulses', 'Peas'], ['Sweet bay', 'Laurus nobilis', 'Herbs and Spices', 'Herbs'], ['Lentils', 'Lens culinaris', 'Pulses', 'Lentils'], ['Garden cress', 'Lepidium sativum', 'Vegetables', 'Leaf vegetables']]\n",
      "[1 3 5 7 9]\n",
      "examplearray1\n",
      " 6\n",
      "examplearray2\n",
      " [[77 34 67 37 41]\n",
      " [24 77 58 33 49]\n",
      " [56 36 18 78 12]\n",
      " [49 84 22 23 42]]\n",
      "randn1\n",
      " 0.1621841398691261\n",
      "randn2\n",
      " [[-0.54263089 -0.39079643 -0.62218169 -0.78567067 -1.4170109 ]\n",
      " [ 1.25606933  2.49108066 -2.52360902  0.89156612  0.82908231]\n",
      " [ 0.11035291 -0.41210431  0.97894065 -1.18644359 -0.01907173]\n",
      " [ 0.06131142 -0.11669743 -0.80061351  1.02597885  0.11968823]]\n",
      "rand\n",
      " 0.31384246809585337\n",
      "rand2\n",
      " [[0.83259563 0.37779392]\n",
      " [0.81916134 0.74661111]\n",
      " [0.815257   0.60244802]]\n",
      "7\n",
      "[4 5 6]\n",
      "[2 5 8]\n",
      "[[15 16 17 18 19]]\n",
      "[[17 18]\n",
      " [22 23]\n",
      " [27 28]]\n",
      "[[0 1]\n",
      " [2 3]\n",
      " [4 5]]\n",
      "transpose\n",
      " [[0 2 4]\n",
      " [1 3 5]]\n",
      "int32\n",
      "[10. 20. 30. 40. 50.]\n",
      "[ 6  8 10 12]\n",
      "[-4 -4 -4 -4]\n",
      "[ 5 12 21 32]\n",
      "[0.2        0.33333333 0.42857143 0.5       ]\n",
      "[1.         1.41421356 1.73205081 2.        ]\n",
      "21\n",
      "1\n",
      "6\n",
      "1.707825127659933\n",
      "[False False False]\n",
      "[False False False]\n",
      "[ True  True  True]\n",
      "[ True  True  True]\n",
      "False\n"
     ]
    }
   ],
   "source": [
    "import numpy as np\n",
    "import pandas as pd\n",
    "df = pd.read_csv('generic-food.csv', delimiter=',')\n",
    "list_of_rows = [list(row) for row in df.values]\n",
    "\n",
    "print(list_of_rows)\n",
    "\n",
    "##arange()\n",
    "import numpy as np\n",
    "arr=np.arange(1,10,2)\n",
    "print(arr)\n",
    "##linespace()\n",
    "np.linspace(3, 6, num=4,endpoint=True,dtype=int)\n",
    "\n",
    "np.linspace(3, 6, num=4,retstep=True)\n",
    "##randint\n",
    "import numpy as np\n",
    "rand_int = np.random.randint(5,10)  \n",
    "print(\"examplearray1\\n\",rand_int)\n",
    "\n",
    "rand_int2 = np.random.randint(10,90,(4,5))\n",
    "print( \"examplearray2\\n\",rand_int2)\n",
    "##randn()-->normal distribution\n",
    "randn1 = np.random.randn() \n",
    "print(\"randn1\\n\",randn1)\n",
    "\n",
    "randn2 = np.random.randn(4,5) \n",
    "print( \"randn2\\n\",randn2)\n",
    "##rand()-uniform distribution\n",
    "rand = np.random.rand() \n",
    "print(\"rand\\n\", rand)\n",
    "\n",
    "rand2 = np.random.rand(3,2) \n",
    "print(\"rand2\\n\", rand2)\n",
    "##indexing in numpy array\n",
    "\n",
    "a2 = np.array([[1, 2, 3],\n",
    "              [4, 5, 6],\n",
    "              [7, 8, 9]])\n",
    "print(a2[2,0])\n",
    "print(a2[1])\n",
    "print(a2[:,1])\n",
    "##slicing in numpy array\n",
    "a2 = np.array([[10, 11, 12, 13, 14],\n",
    "               [15, 16, 17, 18, 19],\n",
    "               [20, 21, 22, 23, 24],\n",
    "               [25, 26, 27, 28, 29]])\n",
    "\n",
    "print(a2[1:2])\n",
    "print(a2[1:,2:4])\n",
    "##reshape and transpose\n",
    "a = np.arange(6).reshape((3, 2))\n",
    "print(a)\n",
    "\n",
    "transp=np.transpose(a)\n",
    "print(\"transpose\\n\",transp)\n",
    "##to print the datatype and change the datatype of the numpy array\n",
    "arr = np.array([10, 20, 30, 40, 50])\n",
    "print(arr.dtype)\n",
    "\n",
    "newtype=arr.astype('float32')\n",
    "print(newtype)\n",
    "##numpy array math\n",
    "x=np.array([1,2,3,4])\n",
    "y=np.array([5,6,7,8])\n",
    "print(x + y) \n",
    "\n",
    "print(x - y)\n",
    "\n",
    "print(x * y)\n",
    "\n",
    "print(x / y)\n",
    "\n",
    "print(np.sqrt(x))\n",
    "##aggregate in numpy \n",
    "arr=np.array([1,2,3,4,5,6])\n",
    "print(np.sum(arr))\n",
    "print(np.min(arr))\n",
    "print(np.max(arr))\n",
    "print(np.std(arr))\n",
    "##acomparison in numpy\n",
    "  \n",
    "a = np.array([19, 12 ,87])\n",
    "b = np.array([897, 97, 111])\n",
    "\n",
    "equal = a==b\n",
    "print(np.greater(a, b))\n",
    "\n",
    "print(np.greater_equal(a, b))\n",
    "  \n",
    "print(np.less(a, b))\n",
    "  \n",
    "print(np.less_equal(a, b))\n",
    "\n",
    "print(equal.all())"
   ]
  }
 ],
 "metadata": {
  "interpreter": {
   "hash": "0ac516125b3ee16d4eaa41f008fade7bad50b808bd1b6d74d2e8ae0015ba9066"
  },
  "kernelspec": {
   "display_name": "Python 3.9.6 64-bit",
   "name": "python3"
  },
  "language_info": {
   "codemirror_mode": {
    "name": "ipython",
    "version": 3
   },
   "file_extension": ".py",
   "mimetype": "text/x-python",
   "name": "python",
   "nbconvert_exporter": "python",
   "pygments_lexer": "ipython3",
   "version": "3.9.6"
  },
  "orig_nbformat": 4
 },
 "nbformat": 4,
 "nbformat_minor": 2
}
