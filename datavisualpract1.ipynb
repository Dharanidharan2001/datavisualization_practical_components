{
    "cells": [
        {
            "cell_type": "code",
            "execution_count": 17,
            "source": [
                "import os\r\n",
                "file=open(\"sample.txt\",\"r\")\r\n",
                "file.seek(0)\r\n",
                "\r\n",
                "##reading the line\r\n",
                "l1=file.read(3)\r\n",
                "print(l1)\r\n",
                "\r\n",
                "file.seek(0)\r\n",
                "\r\n",
                "##reading the entire line\r\n",
                "l=file.readline(3)\r\n",
                "print(l)\r\n",
                "\r\n",
                "#looping the first 10 line from the file\r\n",
                "file.seek(0)\r\n",
                "for i in range(10):\r\n",
                "  print(file.readline())\r\n",
                "file.seek(0)\r\n",
                "\r\n",
                "\"\"\" \r\n",
                "##adding the text to the file\r\n",
                "\r\n",
                "file=open(\"sample.txt\",\"w+\")\r\n",
                "\r\n",
                "if file.mode != \"r\":\r\n",
                "  file.write(\"hello world\")\r\n",
                "\r\n",
                "#closing the file\r\n",
                "file.close()\r\n",
                "\"\"\"\r\n",
                "\r\n"
            ],
            "outputs": [
                {
                    "output_type": "stream",
                    "name": "stdout",
                    "text": [
                        "hel\n",
                        "hel\n",
                        "hello world\n",
                        "\n",
                        "this is dharani\n",
                        "\n",
                        "welcome\n",
                        "\n",
                        "alll\n",
                        "\n",
                        "tech\n",
                        "\n",
                        "bigs\n",
                        "\n",
                        "\n",
                        "\n",
                        "\n"
                    ]
                },
                {
                    "output_type": "execute_result",
                    "data": {
                        "text/plain": [
                            "'\\nif file.mode != \"r\":\\n  file.write(\"hello world\")\\nfile.close()\\n\\n\\n'"
                        ]
                    },
                    "metadata": {},
                    "execution_count": 17
                }
            ],
            "metadata": {}
        },
        {
            "cell_type": "code",
            "execution_count": 26,
            "source": [
                "import os\r\n",
                "file=open(\"sample.txt\",\"r\")\r\n",
                "line=file.readline(1)\r\n",
                "print(line)"
            ],
            "outputs": [
                {
                    "output_type": "stream",
                    "name": "stdout",
                    "text": [
                        "h\n"
                    ]
                }
            ],
            "metadata": {}
        }
    ],
    "metadata": {
        "orig_nbformat": 4,
        "language_info": {
            "name": "python",
            "version": "3.9.6",
            "mimetype": "text/x-python",
            "codemirror_mode": {
                "name": "ipython",
                "version": 3
            },
            "pygments_lexer": "ipython3",
            "nbconvert_exporter": "python",
            "file_extension": ".py"
        },
        "kernelspec": {
            "name": "python3",
            "display_name": "Python 3.9.6 64-bit"
        },
        "interpreter": {
            "hash": "0ac516125b3ee16d4eaa41f008fade7bad50b808bd1b6d74d2e8ae0015ba9066"
        }
    },
    "nbformat": 4,
    "nbformat_minor": 2
}