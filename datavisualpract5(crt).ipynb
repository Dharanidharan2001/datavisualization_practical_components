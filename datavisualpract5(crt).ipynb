{
 "cells": [
  {
   "cell_type": "code",
   "execution_count": 1,
   "metadata": {},
   "outputs": [],
   "source": [
    "#import numpy under the name np and pandas under the name pd\n",
    "import numpy as np\n",
    "import pandas as pd\n"
   ]
  },
  {
   "cell_type": "code",
   "execution_count": 2,
   "metadata": {},
   "outputs": [],
   "source": [
    "#Create two dataframe on your own\n",
    "sales1 = pd.DataFrame({\n",
    "   'Pid':[1,2,3,4,5],\n",
    "   'PName': ['Watch', 'Umbrella', 'Chocolates', 'Travel Bag', 'Clothing'],\n",
    "   'Item_ordered':[1,2,4,6,5]})\n",
    "sales2 = pd.DataFrame({\n",
    "\t'Pid':[1,2,3,4,5,6,7],\n",
    "   'PName': ['Camera', 'Mobile', 'Raincoat', 'Sunscreens', 'Gifts','Biscuits','Perfumes'],\n",
    "   'Item_ordered':[2,4,3,6,5,2,7]})\n"
   ]
  },
  {
   "cell_type": "code",
   "execution_count": 3,
   "metadata": {},
   "outputs": [
    {
     "name": "stdout",
     "output_type": "stream",
     "text": [
      "   Pid     PName_x  Item_ordered_x     PName_y  Item_ordered_y\n",
      "0    1       Watch               1      Camera               2\n",
      "1    2    Umbrella               2      Mobile               4\n",
      "2    3  Chocolates               4    Raincoat               3\n",
      "3    4  Travel Bag               6  Sunscreens               6\n",
      "4    5    Clothing               5       Gifts               5\n"
     ]
    }
   ],
   "source": [
    "#Use merge function to create single dataframe and observe the results\n",
    "print(pd.merge(sales1,sales2,on='Pid'))\n",
    "\n"
   ]
  },
  {
   "cell_type": "code",
   "execution_count": 4,
   "metadata": {},
   "outputs": [
    {
     "name": "stdout",
     "output_type": "stream",
     "text": [
      "   Pid     PName_x  Item_ordered_x     PName_y  Item_ordered_y\n",
      "0    1       Watch               1      Camera               2\n",
      "1    2    Umbrella               2      Mobile               4\n",
      "2    3  Chocolates               4    Raincoat               3\n",
      "3    4  Travel Bag               6  Sunscreens               6\n",
      "4    5    Clothing               5       Gifts               5\n"
     ]
    }
   ],
   "source": [
    "#Perform merging on the common / overlapping columns as the keys and observe the results (inner join)\n",
    "print(pd.merge(sales1, sales2, on='Pid', how='inner'))\n"
   ]
  },
  {
   "cell_type": "code",
   "execution_count": 5,
   "metadata": {},
   "outputs": [
    {
     "name": "stdout",
     "output_type": "stream",
     "text": [
      "OUTER JOIN:\n",
      "   Pid     PName_x  Item_ordered_x     PName_y  Item_ordered_y\n",
      "0    1       Watch             1.0      Camera               2\n",
      "1    2    Umbrella             2.0      Mobile               4\n",
      "2    3  Chocolates             4.0    Raincoat               3\n",
      "3    4  Travel Bag             6.0  Sunscreens               6\n",
      "4    5    Clothing             5.0       Gifts               5\n",
      "5    6         NaN             NaN    Biscuits               2\n",
      "6    7         NaN             NaN    Perfumes               7\n",
      "LEFT JOIN:\n",
      "   Pid     PName_x  Item_ordered_x     PName_y  Item_ordered_y\n",
      "0    1       Watch               1      Camera               2\n",
      "1    2    Umbrella               2      Mobile               4\n",
      "2    3  Chocolates               4    Raincoat               3\n",
      "3    4  Travel Bag               6  Sunscreens               6\n",
      "4    5    Clothing               5       Gifts               5\n",
      "RIGHT JOIN:\n",
      "   Pid     PName_x  Item_ordered_x     PName_y  Item_ordered_y\n",
      "0    1       Watch             1.0      Camera               2\n",
      "1    2    Umbrella             2.0      Mobile               4\n",
      "2    3  Chocolates             4.0    Raincoat               3\n",
      "3    4  Travel Bag             6.0  Sunscreens               6\n",
      "4    5    Clothing             5.0       Gifts               5\n",
      "5    6         NaN             NaN    Biscuits               2\n",
      "6    7         NaN             NaN    Perfumes               7\n"
     ]
    }
   ],
   "source": [
    "#Perform outer, left , right joins and observe the results\n",
    "print(\"OUTER JOIN:\")\n",
    "print(pd.merge(sales1, sales2, on='Pid', how='outer'))\n",
    "print(\"LEFT JOIN:\")\n",
    "print(pd.merge(sales1, sales2, on='Pid', how='left'))\n",
    "print(\"RIGHT JOIN:\")\n",
    "print(pd.merge(sales1, sales2, on='Pid', how='right'))"
   ]
  },
  {
   "cell_type": "code",
   "execution_count": 6,
   "metadata": {},
   "outputs": [
    {
     "name": "stdout",
     "output_type": "stream",
     "text": [
      "   sid sName_x  marks_x  sName_y  marks_y\n",
      "0    1    arun       90  dharani     28.0\n",
      "1    2  udhaya       25      raj     49.0\n",
      "2    3   suren       40      NaN      NaN\n"
     ]
    }
   ],
   "source": [
    "#If keys are present in index, develop code to perform joins\n",
    "std1 = pd.DataFrame({\n",
    "   'sid':[1,2,3],\n",
    "   'sName': ['arun', 'udhaya', 'suren'],\n",
    "   'marks':[90,25,40]})\n",
    "std2 = pd.DataFrame({\n",
    "'sName': ['dharani', 'raj'],\n",
    "   'marks':[28,49]}, index=[1,2])\n",
    "print(pd.merge(std1,std2,left_on=\"sid\",right_index= True,how='outer'))\n"
   ]
  },
  {
   "cell_type": "code",
   "execution_count": 7,
   "metadata": {},
   "outputs": [
    {
     "data": {
      "text/html": [
       "<div>\n",
       "<style scoped>\n",
       "    .dataframe tbody tr th:only-of-type {\n",
       "        vertical-align: middle;\n",
       "    }\n",
       "\n",
       "    .dataframe tbody tr th {\n",
       "        vertical-align: top;\n",
       "    }\n",
       "\n",
       "    .dataframe thead th {\n",
       "        text-align: right;\n",
       "    }\n",
       "</style>\n",
       "<table border=\"1\" class=\"dataframe\">\n",
       "  <thead>\n",
       "    <tr style=\"text-align: right;\">\n",
       "      <th></th>\n",
       "      <th>Pid</th>\n",
       "      <th>PName</th>\n",
       "      <th>Item_ordered</th>\n",
       "      <th>Pid</th>\n",
       "      <th>PName</th>\n",
       "      <th>Item_ordered</th>\n",
       "    </tr>\n",
       "  </thead>\n",
       "  <tbody>\n",
       "    <tr>\n",
       "      <th>0</th>\n",
       "      <td>1.0</td>\n",
       "      <td>Watch</td>\n",
       "      <td>1.0</td>\n",
       "      <td>1</td>\n",
       "      <td>Camera</td>\n",
       "      <td>2</td>\n",
       "    </tr>\n",
       "    <tr>\n",
       "      <th>1</th>\n",
       "      <td>2.0</td>\n",
       "      <td>Umbrella</td>\n",
       "      <td>2.0</td>\n",
       "      <td>2</td>\n",
       "      <td>Mobile</td>\n",
       "      <td>4</td>\n",
       "    </tr>\n",
       "    <tr>\n",
       "      <th>2</th>\n",
       "      <td>3.0</td>\n",
       "      <td>Chocolates</td>\n",
       "      <td>4.0</td>\n",
       "      <td>3</td>\n",
       "      <td>Raincoat</td>\n",
       "      <td>3</td>\n",
       "    </tr>\n",
       "    <tr>\n",
       "      <th>3</th>\n",
       "      <td>4.0</td>\n",
       "      <td>Travel Bag</td>\n",
       "      <td>6.0</td>\n",
       "      <td>4</td>\n",
       "      <td>Sunscreens</td>\n",
       "      <td>6</td>\n",
       "    </tr>\n",
       "    <tr>\n",
       "      <th>4</th>\n",
       "      <td>5.0</td>\n",
       "      <td>Clothing</td>\n",
       "      <td>5.0</td>\n",
       "      <td>5</td>\n",
       "      <td>Gifts</td>\n",
       "      <td>5</td>\n",
       "    </tr>\n",
       "    <tr>\n",
       "      <th>5</th>\n",
       "      <td>NaN</td>\n",
       "      <td>NaN</td>\n",
       "      <td>NaN</td>\n",
       "      <td>6</td>\n",
       "      <td>Biscuits</td>\n",
       "      <td>2</td>\n",
       "    </tr>\n",
       "    <tr>\n",
       "      <th>6</th>\n",
       "      <td>NaN</td>\n",
       "      <td>NaN</td>\n",
       "      <td>NaN</td>\n",
       "      <td>7</td>\n",
       "      <td>Perfumes</td>\n",
       "      <td>7</td>\n",
       "    </tr>\n",
       "  </tbody>\n",
       "</table>\n",
       "</div>"
      ],
      "text/plain": [
       "   Pid       PName  Item_ordered  Pid       PName  Item_ordered\n",
       "0  1.0       Watch           1.0    1      Camera             2\n",
       "1  2.0    Umbrella           2.0    2      Mobile             4\n",
       "2  3.0  Chocolates           4.0    3    Raincoat             3\n",
       "3  4.0  Travel Bag           6.0    4  Sunscreens             6\n",
       "4  5.0    Clothing           5.0    5       Gifts             5\n",
       "5  NaN         NaN           NaN    6    Biscuits             2\n",
       "6  NaN         NaN           NaN    7    Perfumes             7"
      ]
     },
     "execution_count": 7,
     "metadata": {},
     "output_type": "execute_result"
    }
   ],
   "source": [
    "#Perform concatenation / binding/ stacking as data combination operation by varying axes and join-axes attributes\n",
    "frames=[sales1,sales2]\n",
    "pd.concat(frames)\n",
    "pd.concat(frames,axis=1)\n",
    "\n"
   ]
  },
  {
   "cell_type": "code",
   "execution_count": 8,
   "metadata": {},
   "outputs": [
    {
     "data": {
      "text/html": [
       "<div>\n",
       "<style scoped>\n",
       "    .dataframe tbody tr th:only-of-type {\n",
       "        vertical-align: middle;\n",
       "    }\n",
       "\n",
       "    .dataframe tbody tr th {\n",
       "        vertical-align: top;\n",
       "    }\n",
       "\n",
       "    .dataframe thead th {\n",
       "        text-align: right;\n",
       "    }\n",
       "</style>\n",
       "<table border=\"1\" class=\"dataframe\">\n",
       "  <thead>\n",
       "    <tr style=\"text-align: right;\">\n",
       "      <th></th>\n",
       "      <th>Pid</th>\n",
       "      <th>PName</th>\n",
       "      <th>Item_ordered</th>\n",
       "    </tr>\n",
       "  </thead>\n",
       "  <tbody>\n",
       "    <tr>\n",
       "      <th>0</th>\n",
       "      <td>1</td>\n",
       "      <td>Watch</td>\n",
       "      <td>1</td>\n",
       "    </tr>\n",
       "    <tr>\n",
       "      <th>1</th>\n",
       "      <td>2</td>\n",
       "      <td>Umbrella</td>\n",
       "      <td>2</td>\n",
       "    </tr>\n",
       "    <tr>\n",
       "      <th>2</th>\n",
       "      <td>3</td>\n",
       "      <td>Chocolates</td>\n",
       "      <td>4</td>\n",
       "    </tr>\n",
       "    <tr>\n",
       "      <th>3</th>\n",
       "      <td>4</td>\n",
       "      <td>Travel Bag</td>\n",
       "      <td>6</td>\n",
       "    </tr>\n",
       "    <tr>\n",
       "      <th>4</th>\n",
       "      <td>5</td>\n",
       "      <td>Clothing</td>\n",
       "      <td>5</td>\n",
       "    </tr>\n",
       "    <tr>\n",
       "      <th>5</th>\n",
       "      <td>1</td>\n",
       "      <td>Camera</td>\n",
       "      <td>2</td>\n",
       "    </tr>\n",
       "    <tr>\n",
       "      <th>6</th>\n",
       "      <td>2</td>\n",
       "      <td>Mobile</td>\n",
       "      <td>4</td>\n",
       "    </tr>\n",
       "    <tr>\n",
       "      <th>7</th>\n",
       "      <td>3</td>\n",
       "      <td>Raincoat</td>\n",
       "      <td>3</td>\n",
       "    </tr>\n",
       "    <tr>\n",
       "      <th>8</th>\n",
       "      <td>4</td>\n",
       "      <td>Sunscreens</td>\n",
       "      <td>6</td>\n",
       "    </tr>\n",
       "    <tr>\n",
       "      <th>9</th>\n",
       "      <td>5</td>\n",
       "      <td>Gifts</td>\n",
       "      <td>5</td>\n",
       "    </tr>\n",
       "    <tr>\n",
       "      <th>10</th>\n",
       "      <td>6</td>\n",
       "      <td>Biscuits</td>\n",
       "      <td>2</td>\n",
       "    </tr>\n",
       "    <tr>\n",
       "      <th>11</th>\n",
       "      <td>7</td>\n",
       "      <td>Perfumes</td>\n",
       "      <td>7</td>\n",
       "    </tr>\n",
       "  </tbody>\n",
       "</table>\n",
       "</div>"
      ],
      "text/plain": [
       "    Pid       PName  Item_ordered\n",
       "0     1       Watch             1\n",
       "1     2    Umbrella             2\n",
       "2     3  Chocolates             4\n",
       "3     4  Travel Bag             6\n",
       "4     5    Clothing             5\n",
       "5     1      Camera             2\n",
       "6     2      Mobile             4\n",
       "7     3    Raincoat             3\n",
       "8     4  Sunscreens             6\n",
       "9     5       Gifts             5\n",
       "10    6    Biscuits             2\n",
       "11    7    Perfumes             7"
      ]
     },
     "execution_count": 8,
     "metadata": {},
     "output_type": "execute_result"
    }
   ],
   "source": [
    "#Create hierarchical indexing\n",
    "pd.concat([sales1,sales2],axis=1,keys=['level1','level2'])\n",
    "pd.concat([sales1,sales2],axis=1,keys=['level1','level2'],names=['upper','lower'])\n",
    "pd.concat([sales1,sales2],ignore_index=True)\n"
   ]
  }
 ],
 "metadata": {
  "interpreter": {
   "hash": "0ac516125b3ee16d4eaa41f008fade7bad50b808bd1b6d74d2e8ae0015ba9066"
  },
  "kernelspec": {
   "display_name": "Python 3.9.6 64-bit",
   "language": "python",
   "name": "python3"
  },
  "language_info": {
   "codemirror_mode": {
    "name": "ipython",
    "version": 3
   },
   "file_extension": ".py",
   "mimetype": "text/x-python",
   "name": "python",
   "nbconvert_exporter": "python",
   "pygments_lexer": "ipython3",
   "version": "3.9.6"
  },
  "orig_nbformat": 4
 },
 "nbformat": 4,
 "nbformat_minor": 2
}
